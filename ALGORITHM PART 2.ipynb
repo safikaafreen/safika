{
 "cells": [
  {
   "cell_type": "markdown",
   "id": "1b807369-62df-4a5d-b00e-f8f7edc18fc6",
   "metadata": {},
   "source": [
    "BREADTH FIRST SEARCH"
   ]
  },
  {
   "cell_type": "code",
   "execution_count": 5,
   "id": "406b9ea5-1b48-4751-a9b7-ad11909b1aa5",
   "metadata": {},
   "outputs": [
    {
     "data": {
      "text/plain": [
       "{'start': ['A', 'B'],\n",
       " 'A': ['start', 'E', 'F'],\n",
       " 'B': ['start', 'D', 'C'],\n",
       " 'C': ['B'],\n",
       " 'D': ['B', 'G'],\n",
       " 'E': ['B', 'G'],\n",
       " 'F': ['B'],\n",
       " 'G': ['E'],\n",
       " 'Goal': ['E', 'F']}"
      ]
     },
     "execution_count": 5,
     "metadata": {},
     "output_type": "execute_result"
    }
   ],
   "source": [
    "my_adj={\n",
    "    'start':['A','B'],\n",
    "    'A':['start','E','F'],\n",
    "    'B':['start','D','C'],\n",
    "    'C':['B'],\n",
    "    'D':['B','G'],\n",
    "    'E':['B','G'],\n",
    "    'F':['B'],\n",
    "    'G':['E'],\n",
    "    'Goal':['E','F']\n",
    "}\n",
    "my_adj"
   ]
  },
  {
   "cell_type": "markdown",
   "id": "565daf8c-8a13-48bf-8a02-f1e9be7b9231",
   "metadata": {},
   "source": [
    "HANDLING QUEUE IN PYTHON"
   ]
  },
  {
   "cell_type": "markdown",
   "id": "278dabc2-c030-49f6-824a-e0db2180a0a3",
   "metadata": {},
   "source": [
    "QUEUE OPERATION:\n",
    "               1.enqueue\n",
    "               2.dequeue\n",
    "               3.size\n",
    "               4.front\n",
    "               5.rear"
   ]
  },
  {
   "cell_type": "code",
   "execution_count": 7,
   "id": "59111c44-2236-492f-8daf-15b388a8c902",
   "metadata": {},
   "outputs": [],
   "source": [
    "from collections import deque"
   ]
  },
  {
   "cell_type": "code",
   "execution_count": 8,
   "id": "9741d662-1c15-44c2-b6ac-0a2d963d6630",
   "metadata": {},
   "outputs": [],
   "source": [
    "Q=deque([\"a\",\"b\",\"c\",\"d\",\"e\"])"
   ]
  },
  {
   "cell_type": "code",
   "execution_count": 9,
   "id": "012f054d-cae6-488f-844a-4a49786701f6",
   "metadata": {},
   "outputs": [],
   "source": [
    "Q.appendleft(\"0\")"
   ]
  },
  {
   "cell_type": "code",
   "execution_count": 10,
   "id": "179378f0-68f7-4662-a45d-a098471bbbe3",
   "metadata": {},
   "outputs": [
    {
     "data": {
      "text/plain": [
       "deque(['0', 'a', 'b', 'c', 'd', 'e'])"
      ]
     },
     "execution_count": 10,
     "metadata": {},
     "output_type": "execute_result"
    }
   ],
   "source": [
    "Q"
   ]
  },
  {
   "cell_type": "code",
   "execution_count": 11,
   "id": "10f85a9d-f5af-46c2-ada2-42d74278913f",
   "metadata": {},
   "outputs": [],
   "source": [
    "Q.append(\"f\")"
   ]
  },
  {
   "cell_type": "code",
   "execution_count": 12,
   "id": "e9241709-7aef-465e-8510-4eac8d065ff6",
   "metadata": {},
   "outputs": [
    {
     "data": {
      "text/plain": [
       "deque(['0', 'a', 'b', 'c', 'd', 'e', 'f'])"
      ]
     },
     "execution_count": 12,
     "metadata": {},
     "output_type": "execute_result"
    }
   ],
   "source": [
    "Q"
   ]
  },
  {
   "cell_type": "code",
   "execution_count": 14,
   "id": "793d5317-7485-47d2-ae2b-64e1295975d4",
   "metadata": {},
   "outputs": [
    {
     "data": {
      "text/plain": [
       "'f'"
      ]
     },
     "execution_count": 14,
     "metadata": {},
     "output_type": "execute_result"
    }
   ],
   "source": [
    "Q.pop()"
   ]
  },
  {
   "cell_type": "code",
   "execution_count": 15,
   "id": "b1026312-1b6b-4371-bd54-35c9d4a524dd",
   "metadata": {},
   "outputs": [
    {
     "data": {
      "text/plain": [
       "'0'"
      ]
     },
     "execution_count": 15,
     "metadata": {},
     "output_type": "execute_result"
    }
   ],
   "source": [
    "Q.popleft()"
   ]
  },
  {
   "cell_type": "code",
   "execution_count": 16,
   "id": "bc115914-a3c1-4cad-b016-29610ae3d7d6",
   "metadata": {},
   "outputs": [
    {
     "data": {
      "text/plain": [
       "deque(['a', 'b', 'c', 'd', 'e'])"
      ]
     },
     "execution_count": 16,
     "metadata": {},
     "output_type": "execute_result"
    }
   ],
   "source": [
    "Q"
   ]
  },
  {
   "cell_type": "code",
   "execution_count": 14,
   "id": "28333376-a029-4dda-99b7-047ef392f8e3",
   "metadata": {},
   "outputs": [],
   "source": [
    "graph={\n",
    "    'sam':['Aaron','Binny'],\n",
    "    'Aaron':['sam','christine','Danny'],\n",
    "    'Binny':['Elvin','Flin'],\n",
    "    'christine':['Aaron'],\n",
    "    'Danny':['Aaron'],\n",
    "    'Elvin':['Binny','Gini'],\n",
    "    'Flin':['Binny'],\n",
    "    'Gini':['Elvin']\n",
    "}"
   ]
  },
  {
   "cell_type": "code",
   "execution_count": 15,
   "id": "da248bc9-7433-4160-946f-adfb4aa33530",
   "metadata": {},
   "outputs": [],
   "source": [
    "from collections import deque\n",
    "def bfs(graph,start,goal):\n",
    "    visited=[]\n",
    "    queue=deque([start])\n",
    "    while queue:\n",
    "        node=queue.popleft()\n",
    "        if node not in visited:\n",
    "            visited.append(node)\n",
    "            print(\"I have visited:\",node)\n",
    "            neighbours=graph[node]\n",
    "            if node==goal:\n",
    "                return(\"I have reached the goal,this is my traversed path:\",visited)\n",
    "            for neighbour in neighbours:\n",
    "                queue.append(neighbour)"
   ]
  },
  {
   "cell_type": "code",
   "execution_count": 16,
   "id": "7600f204-6e0c-4674-a8c7-4366a6d54f61",
   "metadata": {},
   "outputs": [
    {
     "name": "stdout",
     "output_type": "stream",
     "text": [
      "I have visited: sam\n",
      "I have visited: Aaron\n",
      "I have visited: Binny\n",
      "I have visited: christine\n",
      "I have visited: Danny\n",
      "I have visited: Elvin\n",
      "I have visited: Flin\n",
      "I have visited: Gini\n"
     ]
    },
    {
     "data": {
      "text/plain": [
       "('I have reached the goal,this is my traversed path:',\n",
       " ['sam', 'Aaron', 'Binny', 'christine', 'Danny', 'Elvin', 'Flin', 'Gini'])"
      ]
     },
     "execution_count": 16,
     "metadata": {},
     "output_type": "execute_result"
    }
   ],
   "source": [
    "bfs(graph,'sam','Gini')"
   ]
  },
  {
   "cell_type": "code",
   "execution_count": null,
   "id": "532d01cf-be8c-4945-ab85-4ef24b54327d",
   "metadata": {},
   "outputs": [],
   "source": []
  },
  {
   "cell_type": "code",
   "execution_count": null,
   "id": "c3f629d9-4203-40cb-9de0-eae6f0ebf734",
   "metadata": {},
   "outputs": [],
   "source": []
  },
  {
   "cell_type": "code",
   "execution_count": null,
   "id": "d368ab07-dc88-4318-b8a7-3c6137239423",
   "metadata": {},
   "outputs": [],
   "source": []
  }
 ],
 "metadata": {
  "kernelspec": {
   "display_name": "Python 3 (ipykernel)",
   "language": "python",
   "name": "python3"
  },
  "language_info": {
   "codemirror_mode": {
    "name": "ipython",
    "version": 3
   },
   "file_extension": ".py",
   "mimetype": "text/x-python",
   "name": "python",
   "nbconvert_exporter": "python",
   "pygments_lexer": "ipython3",
   "version": "3.9.18"
  }
 },
 "nbformat": 4,
 "nbformat_minor": 5
}
