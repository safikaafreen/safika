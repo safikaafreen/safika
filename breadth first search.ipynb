{
 "cells": [
  {
   "cell_type": "code",
   "execution_count": 4,
   "id": "d8f33bda-c7fe-4fd5-b509-8c599d7d1c14",
   "metadata": {},
   "outputs": [],
   "source": [
    "graph={\n",
    "    'sam':['Aaron','Binny'],\n",
    "    'Aaron':['sam','christine','Danny'],\n",
    "    'Binny':['Elvin','Flin'],\n",
    "    'christine':['Aaron'],\n",
    "    'Danny':['Aaron'],\n",
    "    'Elvin':['Binny','Gini'],\n",
    "    'Flin':['Binny'],\n",
    "    'Gini':['Elvin']\n",
    "}"
   ]
  },
  {
   "cell_type": "code",
   "execution_count": 5,
   "id": "8d0ba4b3-4089-4169-a534-b69607e193c2",
   "metadata": {},
   "outputs": [],
   "source": [
    "def dfs(graph,start,goal,visited):\n",
    "    stack = [start]\n",
    "    while stack:\n",
    "        node = stack.pop()\n",
    "        if node not in visited:\n",
    "            visited.append(node)\n",
    "            if node==goal:\n",
    "                print(visited)\n",
    "            for neighbors in graph[node]:\n",
    "                dfs(graph,neighbors,goal,visited)"
   ]
  },
  {
   "cell_type": "code",
   "execution_count": 6,
   "id": "3a91537f-4e0e-4021-bb62-1d558b5ef249",
   "metadata": {},
   "outputs": [
    {
     "name": "stdout",
     "output_type": "stream",
     "text": [
      "['sam', 'Aaron', 'christine', 'Danny', 'Binny', 'Elvin', 'Gini']\n"
     ]
    }
   ],
   "source": [
    "dfs(graph,'sam','Gini',[])"
   ]
  },
  {
   "cell_type": "code",
   "execution_count": null,
   "id": "b3cb7e79-da24-43e0-ab2f-52eec31542b0",
   "metadata": {},
   "outputs": [],
   "source": []
  }
 ],
 "metadata": {
  "kernelspec": {
   "display_name": "Python 3 (ipykernel)",
   "language": "python",
   "name": "python3"
  },
  "language_info": {
   "codemirror_mode": {
    "name": "ipython",
    "version": 3
   },
   "file_extension": ".py",
   "mimetype": "text/x-python",
   "name": "python",
   "nbconvert_exporter": "python",
   "pygments_lexer": "ipython3",
   "version": "3.9.18"
  }
 },
 "nbformat": 4,
 "nbformat_minor": 5
}
